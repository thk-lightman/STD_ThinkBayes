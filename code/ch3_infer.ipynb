{
 "cells": [
  {
   "cell_type": "code",
   "execution_count": 1,
   "metadata": {},
   "outputs": [],
   "source": [
    "from thinkbayes import Pmf\n",
    "from thinkbayes import Suite"
   ]
  },
  {
   "cell_type": "code",
   "execution_count": 6,
   "metadata": {},
   "outputs": [
    {
     "name": "stdout",
     "output_type": "stream",
     "text": [
      "4 0.0\n",
      "6 0.3921568627450981\n",
      "8 0.29411764705882354\n",
      "12 0.19607843137254904\n",
      "20 0.11764705882352944\n"
     ]
    }
   ],
   "source": [
    "#주사위 문제\n",
    "class Dice(Suite):\n",
    "    def Likelihood(self, data, hypo):\n",
    "        if hypo < data:\n",
    "            return 0\n",
    "        else: return 1.0/hypo\n",
    "suite = Dice([4, 6, 8, 12, 20])\n",
    "suite.Update(6)\n",
    "suite.Print()\n",
    "for roll in [6, 8, 7, 7, 5, 4]:\n",
    "    suite.Update(roll)\n",
    "    suite.Print()"
   ]
  },
  {
   "cell_type": "code",
   "execution_count": 9,
   "metadata": {},
   "outputs": [
    {
     "data": {
      "text/plain": [
       "333.41989326371095"
      ]
     },
     "execution_count": 9,
     "metadata": {},
     "output_type": "execute_result"
    }
   ],
   "source": [
    "# 기관차 문제\n",
    "class Train(Suite):\n",
    "    def Likelihood(self, data, hypo):\n",
    "        if hypo < data: return 0\n",
    "        else: return 1.0/hypo\n",
    "hypos = range(1, 1001)\n",
    "suite = Train(hypos)\n",
    "suite.Update(60)\n",
    "suite.Mean()"
   ]
  },
  {
   "cell_type": "code",
   "execution_count": null,
   "metadata": {},
   "outputs": [],
   "source": []
  }
 ],
 "metadata": {
  "kernelspec": {
   "display_name": "Python 3.9.7 64-bit ('3.9.7')",
   "language": "python",
   "name": "python3"
  },
  "language_info": {
   "codemirror_mode": {
    "name": "ipython",
    "version": 3
   },
   "file_extension": ".py",
   "mimetype": "text/x-python",
   "name": "python",
   "nbconvert_exporter": "python",
   "pygments_lexer": "ipython3",
   "version": "3.9.7"
  },
  "orig_nbformat": 4,
  "vscode": {
   "interpreter": {
    "hash": "2d8c8e0e1a8889237190e09e4039b912ae0ba3467f9c479360fea22d023023c4"
   }
  }
 },
 "nbformat": 4,
 "nbformat_minor": 2
}
