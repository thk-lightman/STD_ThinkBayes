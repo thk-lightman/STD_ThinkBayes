{
 "cells": [
  {
   "cell_type": "markdown",
   "metadata": {},
   "source": [
    "# CHAPTER6: Odds And Addends"
   ]
  },
  {
   "cell_type": "markdown",
   "metadata": {},
   "source": [
    "## Libraries"
   ]
  },
  {
   "cell_type": "code",
   "execution_count": null,
   "metadata": {},
   "outputs": [],
   "source": [
    "!pip install empiricaldist statsmodels matplotlib"
   ]
  },
  {
   "cell_type": "code",
   "execution_count": 16,
   "metadata": {},
   "outputs": [],
   "source": [
    "# Get utils.py\n",
    "from os.path import basename, exists\n",
    "\n",
    "# def download(url):\n",
    "#     filename = basename(url)\n",
    "#     if not exists(filename):\n",
    "#         from urllib.request import urlretrieve\n",
    "#         local, _ = urlretrieve(url, filename)\n",
    "#         print('Downloaded ' + local)\n",
    "    \n",
    "# download('https://github.com/AllenDowney/ThinkBayes2/raw/master/soln/utils.py')\n",
    "\n",
    "from utils import decorate\n",
    "from utils import set_pyplot_params\n",
    "set_pyplot_params()\n",
    "\n",
    "import numpy as np\n",
    "from empiricaldist import Pmf\n",
    "import matplotlib.pyplot as plt\n",
    "from utils import make_binomial\n",
    "import pandas as pd\n"
   ]
  },
  {
   "cell_type": "code",
   "execution_count": 10,
   "metadata": {},
   "outputs": [],
   "source": [
    "def odds(p):\n",
    "    return p / (1-p)\n",
    "def prob(o):\n",
    "    return o / (o+1)\n",
    "def prob2(yes, no):\n",
    "    return yes / (yes + no)\n",
    "def add_dist(pmf1, pmf2):\n",
    "    \"\"\"Compute the distribution of a sum.\"\"\"\n",
    "    res = Pmf()\n",
    "    for q1, p1 in pmf1.items():\n",
    "        for q2, p2 in pmf2.items():\n",
    "            q = q1 + q2\n",
    "            p = p1 * p2\n",
    "            res[q] = res(q) + p\n",
    "    return res"
   ]
  },
  {
   "cell_type": "code",
   "execution_count": 8,
   "metadata": {},
   "outputs": [],
   "source": [
    "def make_die(sides):\n",
    "    outcomes = np.arange(1, sides+1)\n",
    "    die = Pmf(1/sides, outcomes)\n",
    "    return die"
   ]
  },
  {
   "cell_type": "code",
   "execution_count": 13,
   "metadata": {},
   "outputs": [],
   "source": [
    "def add_dist(pmf1, pmf2):\n",
    "    \"\"\"Compute the distribution of a sum.\"\"\"\n",
    "    res = Pmf()\n",
    "    for q1, p1 in pmf1.items():\n",
    "        for q2, p2 in pmf2.items():\n",
    "            q = q1 + q2\n",
    "            p = p1 * p2\n",
    "            res[q] = res(q) + p\n",
    "    return res\n",
    "def add_dist_seq(seq):\n",
    "    \"\"\"Compute Pmf of the sum of values from seq.\"\"\"\n",
    "    total = seq[0]\n",
    "    for other in seq[1:]:\n",
    "        total = total.add_dist(other)\n",
    "    return total"
   ]
  },
  {
   "cell_type": "code",
   "execution_count": 12,
   "metadata": {},
   "outputs": [],
   "source": [
    "from utils import decorate\n",
    "\n",
    "def decorate_dice(title=''):\n",
    "    decorate(xlabel='Outcome',\n",
    "             ylabel='PMF',\n",
    "             title=title)"
   ]
  },
  {
   "cell_type": "markdown",
   "metadata": {},
   "source": [
    "## Exercises"
   ]
  },
  {
   "cell_type": "markdown",
   "metadata": {},
   "source": [
    "  - Oliver Exercise\n",
    "    - [Graph](\"https://www.desmos.com/calculator/zija07zc68\")"
   ]
  },
  {
   "cell_type": "code",
   "execution_count": 22,
   "metadata": {},
   "outputs": [
    {
     "data": {
      "text/plain": [
       "(array([0.00990099, 0.5       , 0.49748744]),\n",
       " array([0.00823168, 0.45355191, 0.45106219]))"
      ]
     },
     "execution_count": 22,
     "metadata": {},
     "output_type": "execute_result"
    }
   ],
   "source": [
    "# a / (1+a) vs al / (1 + al)\n",
    "a = np.array([0.01, 1, 0.99])\n",
    "l = 0.83\n",
    "a / (1+a), a*l / (1 + a*l)"
   ]
  },
  {
   "cell_type": "markdown",
   "metadata": {},
   "source": [
    "- Elvis Presley"
   ]
  },
  {
   "cell_type": "code",
   "execution_count": null,
   "metadata": {},
   "outputs": [],
   "source": [
    "# Solution\n",
    "prior_odds = odds(1/3)\n",
    "post_odds = prior_odds * 2 * 1.25\n",
    "prob(post_odds)"
   ]
  },
  {
   "cell_type": "code",
   "execution_count": 19,
   "metadata": {},
   "outputs": [
    {
     "data": {
      "text/plain": [
       "(0.45355191256830596, 0.8819362455726093, 0.0844354018311292)"
      ]
     },
     "execution_count": 19,
     "metadata": {},
     "output_type": "execute_result"
    }
   ],
   "source": [
    "prob(0.83), prob(9*0.83), prob(1/9 * 0.83)"
   ]
  },
  {
   "cell_type": "code",
   "execution_count": 20,
   "metadata": {},
   "outputs": [
    {
     "data": {
      "text/plain": [
       "0.1111111111111111"
      ]
     },
     "execution_count": 20,
     "metadata": {},
     "output_type": "execute_result"
    }
   ],
   "source": [
    "1/9"
   ]
  },
  {
   "cell_type": "code",
   "execution_count": null,
   "metadata": {},
   "outputs": [],
   "source": []
  }
 ],
 "metadata": {
  "kernelspec": {
   "display_name": "nightwhale",
   "language": "python",
   "name": "transcriptingmldl-ezvlh02a-py3.9"
  },
  "language_info": {
   "codemirror_mode": {
    "name": "ipython",
    "version": 3
   },
   "file_extension": ".py",
   "mimetype": "text/x-python",
   "name": "python",
   "nbconvert_exporter": "python",
   "pygments_lexer": "ipython3",
   "version": "3.9.13"
  },
  "orig_nbformat": 4
 },
 "nbformat": 4,
 "nbformat_minor": 2
}
